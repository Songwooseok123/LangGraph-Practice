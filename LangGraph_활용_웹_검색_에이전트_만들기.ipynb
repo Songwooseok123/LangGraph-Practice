{
  "nbformat": 4,
  "nbformat_minor": 0,
  "metadata": {
    "colab": {
      "provenance": []
    },
    "kernelspec": {
      "name": "python3",
      "display_name": "Python 3"
    },
    "language_info": {
      "name": "python"
    }
  },
  "cells": [
    {
      "cell_type": "code",
      "source": [
        "!pip install -U langgraph\n",
        "!pip install langchain-openai\n",
        "!pip install langchain\n",
        "!pip install langchain-community"
      ],
      "metadata": {
        "colab": {
          "base_uri": "https://localhost:8080/"
        },
        "collapsed": true,
        "id": "54oO_7V6zhKI",
        "outputId": "b1683fab-1c47-4e1d-828f-d31016ca5060"
      },
      "execution_count": 7,
      "outputs": [
        {
          "output_type": "stream",
          "name": "stdout",
          "text": [
            "Requirement already satisfied: langgraph in /usr/local/lib/python3.11/dist-packages (0.4.7)\n",
            "Requirement already satisfied: langchain-core>=0.1 in /usr/local/lib/python3.11/dist-packages (from langgraph) (0.3.62)\n",
            "Requirement already satisfied: langgraph-checkpoint>=2.0.26 in /usr/local/lib/python3.11/dist-packages (from langgraph) (2.0.26)\n",
            "Requirement already satisfied: langgraph-prebuilt>=0.2.0 in /usr/local/lib/python3.11/dist-packages (from langgraph) (0.2.1)\n",
            "Requirement already satisfied: langgraph-sdk>=0.1.42 in /usr/local/lib/python3.11/dist-packages (from langgraph) (0.1.70)\n",
            "Requirement already satisfied: pydantic>=2.7.4 in /usr/local/lib/python3.11/dist-packages (from langgraph) (2.11.4)\n",
            "Requirement already satisfied: xxhash>=3.5.0 in /usr/local/lib/python3.11/dist-packages (from langgraph) (3.5.0)\n",
            "Requirement already satisfied: langsmith<0.4,>=0.1.126 in /usr/local/lib/python3.11/dist-packages (from langchain-core>=0.1->langgraph) (0.3.42)\n",
            "Requirement already satisfied: tenacity!=8.4.0,<10.0.0,>=8.1.0 in /usr/local/lib/python3.11/dist-packages (from langchain-core>=0.1->langgraph) (9.1.2)\n",
            "Requirement already satisfied: jsonpatch<2.0,>=1.33 in /usr/local/lib/python3.11/dist-packages (from langchain-core>=0.1->langgraph) (1.33)\n",
            "Requirement already satisfied: PyYAML>=5.3 in /usr/local/lib/python3.11/dist-packages (from langchain-core>=0.1->langgraph) (6.0.2)\n",
            "Requirement already satisfied: packaging<25,>=23.2 in /usr/local/lib/python3.11/dist-packages (from langchain-core>=0.1->langgraph) (24.2)\n",
            "Requirement already satisfied: typing-extensions>=4.7 in /usr/local/lib/python3.11/dist-packages (from langchain-core>=0.1->langgraph) (4.13.2)\n",
            "Requirement already satisfied: ormsgpack<2.0.0,>=1.8.0 in /usr/local/lib/python3.11/dist-packages (from langgraph-checkpoint>=2.0.26->langgraph) (1.10.0)\n",
            "Requirement already satisfied: httpx>=0.25.2 in /usr/local/lib/python3.11/dist-packages (from langgraph-sdk>=0.1.42->langgraph) (0.28.1)\n",
            "Requirement already satisfied: orjson>=3.10.1 in /usr/local/lib/python3.11/dist-packages (from langgraph-sdk>=0.1.42->langgraph) (3.10.18)\n",
            "Requirement already satisfied: annotated-types>=0.6.0 in /usr/local/lib/python3.11/dist-packages (from pydantic>=2.7.4->langgraph) (0.7.0)\n",
            "Requirement already satisfied: pydantic-core==2.33.2 in /usr/local/lib/python3.11/dist-packages (from pydantic>=2.7.4->langgraph) (2.33.2)\n",
            "Requirement already satisfied: typing-inspection>=0.4.0 in /usr/local/lib/python3.11/dist-packages (from pydantic>=2.7.4->langgraph) (0.4.1)\n",
            "Requirement already satisfied: anyio in /usr/local/lib/python3.11/dist-packages (from httpx>=0.25.2->langgraph-sdk>=0.1.42->langgraph) (4.9.0)\n",
            "Requirement already satisfied: certifi in /usr/local/lib/python3.11/dist-packages (from httpx>=0.25.2->langgraph-sdk>=0.1.42->langgraph) (2025.4.26)\n",
            "Requirement already satisfied: httpcore==1.* in /usr/local/lib/python3.11/dist-packages (from httpx>=0.25.2->langgraph-sdk>=0.1.42->langgraph) (1.0.9)\n",
            "Requirement already satisfied: idna in /usr/local/lib/python3.11/dist-packages (from httpx>=0.25.2->langgraph-sdk>=0.1.42->langgraph) (3.10)\n",
            "Requirement already satisfied: h11>=0.16 in /usr/local/lib/python3.11/dist-packages (from httpcore==1.*->httpx>=0.25.2->langgraph-sdk>=0.1.42->langgraph) (0.16.0)\n",
            "Requirement already satisfied: jsonpointer>=1.9 in /usr/local/lib/python3.11/dist-packages (from jsonpatch<2.0,>=1.33->langchain-core>=0.1->langgraph) (3.0.0)\n",
            "Requirement already satisfied: requests<3,>=2 in /usr/local/lib/python3.11/dist-packages (from langsmith<0.4,>=0.1.126->langchain-core>=0.1->langgraph) (2.32.3)\n",
            "Requirement already satisfied: requests-toolbelt<2.0.0,>=1.0.0 in /usr/local/lib/python3.11/dist-packages (from langsmith<0.4,>=0.1.126->langchain-core>=0.1->langgraph) (1.0.0)\n",
            "Requirement already satisfied: zstandard<0.24.0,>=0.23.0 in /usr/local/lib/python3.11/dist-packages (from langsmith<0.4,>=0.1.126->langchain-core>=0.1->langgraph) (0.23.0)\n",
            "Requirement already satisfied: charset-normalizer<4,>=2 in /usr/local/lib/python3.11/dist-packages (from requests<3,>=2->langsmith<0.4,>=0.1.126->langchain-core>=0.1->langgraph) (3.4.2)\n",
            "Requirement already satisfied: urllib3<3,>=1.21.1 in /usr/local/lib/python3.11/dist-packages (from requests<3,>=2->langsmith<0.4,>=0.1.126->langchain-core>=0.1->langgraph) (2.4.0)\n",
            "Requirement already satisfied: sniffio>=1.1 in /usr/local/lib/python3.11/dist-packages (from anyio->httpx>=0.25.2->langgraph-sdk>=0.1.42->langgraph) (1.3.1)\n",
            "Requirement already satisfied: langchain-openai in /usr/local/lib/python3.11/dist-packages (0.3.18)\n",
            "Requirement already satisfied: langchain-core<1.0.0,>=0.3.61 in /usr/local/lib/python3.11/dist-packages (from langchain-openai) (0.3.62)\n",
            "Requirement already satisfied: openai<2.0.0,>=1.68.2 in /usr/local/lib/python3.11/dist-packages (from langchain-openai) (1.81.0)\n",
            "Requirement already satisfied: tiktoken<1,>=0.7 in /usr/local/lib/python3.11/dist-packages (from langchain-openai) (0.9.0)\n",
            "Requirement already satisfied: langsmith<0.4,>=0.1.126 in /usr/local/lib/python3.11/dist-packages (from langchain-core<1.0.0,>=0.3.61->langchain-openai) (0.3.42)\n",
            "Requirement already satisfied: tenacity!=8.4.0,<10.0.0,>=8.1.0 in /usr/local/lib/python3.11/dist-packages (from langchain-core<1.0.0,>=0.3.61->langchain-openai) (9.1.2)\n",
            "Requirement already satisfied: jsonpatch<2.0,>=1.33 in /usr/local/lib/python3.11/dist-packages (from langchain-core<1.0.0,>=0.3.61->langchain-openai) (1.33)\n",
            "Requirement already satisfied: PyYAML>=5.3 in /usr/local/lib/python3.11/dist-packages (from langchain-core<1.0.0,>=0.3.61->langchain-openai) (6.0.2)\n",
            "Requirement already satisfied: packaging<25,>=23.2 in /usr/local/lib/python3.11/dist-packages (from langchain-core<1.0.0,>=0.3.61->langchain-openai) (24.2)\n",
            "Requirement already satisfied: typing-extensions>=4.7 in /usr/local/lib/python3.11/dist-packages (from langchain-core<1.0.0,>=0.3.61->langchain-openai) (4.13.2)\n",
            "Requirement already satisfied: pydantic>=2.7.4 in /usr/local/lib/python3.11/dist-packages (from langchain-core<1.0.0,>=0.3.61->langchain-openai) (2.11.4)\n",
            "Requirement already satisfied: anyio<5,>=3.5.0 in /usr/local/lib/python3.11/dist-packages (from openai<2.0.0,>=1.68.2->langchain-openai) (4.9.0)\n",
            "Requirement already satisfied: distro<2,>=1.7.0 in /usr/local/lib/python3.11/dist-packages (from openai<2.0.0,>=1.68.2->langchain-openai) (1.9.0)\n",
            "Requirement already satisfied: httpx<1,>=0.23.0 in /usr/local/lib/python3.11/dist-packages (from openai<2.0.0,>=1.68.2->langchain-openai) (0.28.1)\n",
            "Requirement already satisfied: jiter<1,>=0.4.0 in /usr/local/lib/python3.11/dist-packages (from openai<2.0.0,>=1.68.2->langchain-openai) (0.10.0)\n",
            "Requirement already satisfied: sniffio in /usr/local/lib/python3.11/dist-packages (from openai<2.0.0,>=1.68.2->langchain-openai) (1.3.1)\n",
            "Requirement already satisfied: tqdm>4 in /usr/local/lib/python3.11/dist-packages (from openai<2.0.0,>=1.68.2->langchain-openai) (4.67.1)\n",
            "Requirement already satisfied: regex>=2022.1.18 in /usr/local/lib/python3.11/dist-packages (from tiktoken<1,>=0.7->langchain-openai) (2024.11.6)\n",
            "Requirement already satisfied: requests>=2.26.0 in /usr/local/lib/python3.11/dist-packages (from tiktoken<1,>=0.7->langchain-openai) (2.32.3)\n",
            "Requirement already satisfied: idna>=2.8 in /usr/local/lib/python3.11/dist-packages (from anyio<5,>=3.5.0->openai<2.0.0,>=1.68.2->langchain-openai) (3.10)\n",
            "Requirement already satisfied: certifi in /usr/local/lib/python3.11/dist-packages (from httpx<1,>=0.23.0->openai<2.0.0,>=1.68.2->langchain-openai) (2025.4.26)\n",
            "Requirement already satisfied: httpcore==1.* in /usr/local/lib/python3.11/dist-packages (from httpx<1,>=0.23.0->openai<2.0.0,>=1.68.2->langchain-openai) (1.0.9)\n",
            "Requirement already satisfied: h11>=0.16 in /usr/local/lib/python3.11/dist-packages (from httpcore==1.*->httpx<1,>=0.23.0->openai<2.0.0,>=1.68.2->langchain-openai) (0.16.0)\n",
            "Requirement already satisfied: jsonpointer>=1.9 in /usr/local/lib/python3.11/dist-packages (from jsonpatch<2.0,>=1.33->langchain-core<1.0.0,>=0.3.61->langchain-openai) (3.0.0)\n",
            "Requirement already satisfied: orjson<4.0.0,>=3.9.14 in /usr/local/lib/python3.11/dist-packages (from langsmith<0.4,>=0.1.126->langchain-core<1.0.0,>=0.3.61->langchain-openai) (3.10.18)\n",
            "Requirement already satisfied: requests-toolbelt<2.0.0,>=1.0.0 in /usr/local/lib/python3.11/dist-packages (from langsmith<0.4,>=0.1.126->langchain-core<1.0.0,>=0.3.61->langchain-openai) (1.0.0)\n",
            "Requirement already satisfied: zstandard<0.24.0,>=0.23.0 in /usr/local/lib/python3.11/dist-packages (from langsmith<0.4,>=0.1.126->langchain-core<1.0.0,>=0.3.61->langchain-openai) (0.23.0)\n",
            "Requirement already satisfied: annotated-types>=0.6.0 in /usr/local/lib/python3.11/dist-packages (from pydantic>=2.7.4->langchain-core<1.0.0,>=0.3.61->langchain-openai) (0.7.0)\n",
            "Requirement already satisfied: pydantic-core==2.33.2 in /usr/local/lib/python3.11/dist-packages (from pydantic>=2.7.4->langchain-core<1.0.0,>=0.3.61->langchain-openai) (2.33.2)\n",
            "Requirement already satisfied: typing-inspection>=0.4.0 in /usr/local/lib/python3.11/dist-packages (from pydantic>=2.7.4->langchain-core<1.0.0,>=0.3.61->langchain-openai) (0.4.1)\n",
            "Requirement already satisfied: charset-normalizer<4,>=2 in /usr/local/lib/python3.11/dist-packages (from requests>=2.26.0->tiktoken<1,>=0.7->langchain-openai) (3.4.2)\n",
            "Requirement already satisfied: urllib3<3,>=1.21.1 in /usr/local/lib/python3.11/dist-packages (from requests>=2.26.0->tiktoken<1,>=0.7->langchain-openai) (2.4.0)\n",
            "Requirement already satisfied: langchain in /usr/local/lib/python3.11/dist-packages (0.3.25)\n",
            "Requirement already satisfied: langchain-core<1.0.0,>=0.3.58 in /usr/local/lib/python3.11/dist-packages (from langchain) (0.3.62)\n",
            "Requirement already satisfied: langchain-text-splitters<1.0.0,>=0.3.8 in /usr/local/lib/python3.11/dist-packages (from langchain) (0.3.8)\n",
            "Requirement already satisfied: langsmith<0.4,>=0.1.17 in /usr/local/lib/python3.11/dist-packages (from langchain) (0.3.42)\n",
            "Requirement already satisfied: pydantic<3.0.0,>=2.7.4 in /usr/local/lib/python3.11/dist-packages (from langchain) (2.11.4)\n",
            "Requirement already satisfied: SQLAlchemy<3,>=1.4 in /usr/local/lib/python3.11/dist-packages (from langchain) (2.0.41)\n",
            "Requirement already satisfied: requests<3,>=2 in /usr/local/lib/python3.11/dist-packages (from langchain) (2.32.3)\n",
            "Requirement already satisfied: PyYAML>=5.3 in /usr/local/lib/python3.11/dist-packages (from langchain) (6.0.2)\n",
            "Requirement already satisfied: tenacity!=8.4.0,<10.0.0,>=8.1.0 in /usr/local/lib/python3.11/dist-packages (from langchain-core<1.0.0,>=0.3.58->langchain) (9.1.2)\n",
            "Requirement already satisfied: jsonpatch<2.0,>=1.33 in /usr/local/lib/python3.11/dist-packages (from langchain-core<1.0.0,>=0.3.58->langchain) (1.33)\n",
            "Requirement already satisfied: packaging<25,>=23.2 in /usr/local/lib/python3.11/dist-packages (from langchain-core<1.0.0,>=0.3.58->langchain) (24.2)\n",
            "Requirement already satisfied: typing-extensions>=4.7 in /usr/local/lib/python3.11/dist-packages (from langchain-core<1.0.0,>=0.3.58->langchain) (4.13.2)\n",
            "Requirement already satisfied: httpx<1,>=0.23.0 in /usr/local/lib/python3.11/dist-packages (from langsmith<0.4,>=0.1.17->langchain) (0.28.1)\n",
            "Requirement already satisfied: orjson<4.0.0,>=3.9.14 in /usr/local/lib/python3.11/dist-packages (from langsmith<0.4,>=0.1.17->langchain) (3.10.18)\n",
            "Requirement already satisfied: requests-toolbelt<2.0.0,>=1.0.0 in /usr/local/lib/python3.11/dist-packages (from langsmith<0.4,>=0.1.17->langchain) (1.0.0)\n",
            "Requirement already satisfied: zstandard<0.24.0,>=0.23.0 in /usr/local/lib/python3.11/dist-packages (from langsmith<0.4,>=0.1.17->langchain) (0.23.0)\n",
            "Requirement already satisfied: annotated-types>=0.6.0 in /usr/local/lib/python3.11/dist-packages (from pydantic<3.0.0,>=2.7.4->langchain) (0.7.0)\n",
            "Requirement already satisfied: pydantic-core==2.33.2 in /usr/local/lib/python3.11/dist-packages (from pydantic<3.0.0,>=2.7.4->langchain) (2.33.2)\n",
            "Requirement already satisfied: typing-inspection>=0.4.0 in /usr/local/lib/python3.11/dist-packages (from pydantic<3.0.0,>=2.7.4->langchain) (0.4.1)\n",
            "Requirement already satisfied: charset-normalizer<4,>=2 in /usr/local/lib/python3.11/dist-packages (from requests<3,>=2->langchain) (3.4.2)\n",
            "Requirement already satisfied: idna<4,>=2.5 in /usr/local/lib/python3.11/dist-packages (from requests<3,>=2->langchain) (3.10)\n",
            "Requirement already satisfied: urllib3<3,>=1.21.1 in /usr/local/lib/python3.11/dist-packages (from requests<3,>=2->langchain) (2.4.0)\n",
            "Requirement already satisfied: certifi>=2017.4.17 in /usr/local/lib/python3.11/dist-packages (from requests<3,>=2->langchain) (2025.4.26)\n",
            "Requirement already satisfied: greenlet>=1 in /usr/local/lib/python3.11/dist-packages (from SQLAlchemy<3,>=1.4->langchain) (3.2.2)\n",
            "Requirement already satisfied: anyio in /usr/local/lib/python3.11/dist-packages (from httpx<1,>=0.23.0->langsmith<0.4,>=0.1.17->langchain) (4.9.0)\n",
            "Requirement already satisfied: httpcore==1.* in /usr/local/lib/python3.11/dist-packages (from httpx<1,>=0.23.0->langsmith<0.4,>=0.1.17->langchain) (1.0.9)\n",
            "Requirement already satisfied: h11>=0.16 in /usr/local/lib/python3.11/dist-packages (from httpcore==1.*->httpx<1,>=0.23.0->langsmith<0.4,>=0.1.17->langchain) (0.16.0)\n",
            "Requirement already satisfied: jsonpointer>=1.9 in /usr/local/lib/python3.11/dist-packages (from jsonpatch<2.0,>=1.33->langchain-core<1.0.0,>=0.3.58->langchain) (3.0.0)\n",
            "Requirement already satisfied: sniffio>=1.1 in /usr/local/lib/python3.11/dist-packages (from anyio->httpx<1,>=0.23.0->langsmith<0.4,>=0.1.17->langchain) (1.3.1)\n",
            "Collecting langchain-community\n",
            "  Downloading langchain_community-0.3.24-py3-none-any.whl.metadata (2.5 kB)\n",
            "Requirement already satisfied: langchain-core<1.0.0,>=0.3.59 in /usr/local/lib/python3.11/dist-packages (from langchain-community) (0.3.62)\n",
            "Requirement already satisfied: langchain<1.0.0,>=0.3.25 in /usr/local/lib/python3.11/dist-packages (from langchain-community) (0.3.25)\n",
            "Requirement already satisfied: SQLAlchemy<3,>=1.4 in /usr/local/lib/python3.11/dist-packages (from langchain-community) (2.0.41)\n",
            "Requirement already satisfied: requests<3,>=2 in /usr/local/lib/python3.11/dist-packages (from langchain-community) (2.32.3)\n",
            "Requirement already satisfied: PyYAML>=5.3 in /usr/local/lib/python3.11/dist-packages (from langchain-community) (6.0.2)\n",
            "Requirement already satisfied: aiohttp<4.0.0,>=3.8.3 in /usr/local/lib/python3.11/dist-packages (from langchain-community) (3.11.15)\n",
            "Requirement already satisfied: tenacity!=8.4.0,<10,>=8.1.0 in /usr/local/lib/python3.11/dist-packages (from langchain-community) (9.1.2)\n",
            "Collecting dataclasses-json<0.7,>=0.5.7 (from langchain-community)\n",
            "  Downloading dataclasses_json-0.6.7-py3-none-any.whl.metadata (25 kB)\n",
            "Collecting pydantic-settings<3.0.0,>=2.4.0 (from langchain-community)\n",
            "  Downloading pydantic_settings-2.9.1-py3-none-any.whl.metadata (3.8 kB)\n",
            "Requirement already satisfied: langsmith<0.4,>=0.1.125 in /usr/local/lib/python3.11/dist-packages (from langchain-community) (0.3.42)\n",
            "Collecting httpx-sse<1.0.0,>=0.4.0 (from langchain-community)\n",
            "  Downloading httpx_sse-0.4.0-py3-none-any.whl.metadata (9.0 kB)\n",
            "Requirement already satisfied: numpy>=1.26.2 in /usr/local/lib/python3.11/dist-packages (from langchain-community) (2.0.2)\n",
            "Requirement already satisfied: aiohappyeyeballs>=2.3.0 in /usr/local/lib/python3.11/dist-packages (from aiohttp<4.0.0,>=3.8.3->langchain-community) (2.6.1)\n",
            "Requirement already satisfied: aiosignal>=1.1.2 in /usr/local/lib/python3.11/dist-packages (from aiohttp<4.0.0,>=3.8.3->langchain-community) (1.3.2)\n",
            "Requirement already satisfied: attrs>=17.3.0 in /usr/local/lib/python3.11/dist-packages (from aiohttp<4.0.0,>=3.8.3->langchain-community) (25.3.0)\n",
            "Requirement already satisfied: frozenlist>=1.1.1 in /usr/local/lib/python3.11/dist-packages (from aiohttp<4.0.0,>=3.8.3->langchain-community) (1.6.0)\n",
            "Requirement already satisfied: multidict<7.0,>=4.5 in /usr/local/lib/python3.11/dist-packages (from aiohttp<4.0.0,>=3.8.3->langchain-community) (6.4.4)\n",
            "Requirement already satisfied: propcache>=0.2.0 in /usr/local/lib/python3.11/dist-packages (from aiohttp<4.0.0,>=3.8.3->langchain-community) (0.3.1)\n",
            "Requirement already satisfied: yarl<2.0,>=1.17.0 in /usr/local/lib/python3.11/dist-packages (from aiohttp<4.0.0,>=3.8.3->langchain-community) (1.20.0)\n",
            "Collecting marshmallow<4.0.0,>=3.18.0 (from dataclasses-json<0.7,>=0.5.7->langchain-community)\n",
            "  Downloading marshmallow-3.26.1-py3-none-any.whl.metadata (7.3 kB)\n",
            "Collecting typing-inspect<1,>=0.4.0 (from dataclasses-json<0.7,>=0.5.7->langchain-community)\n",
            "  Downloading typing_inspect-0.9.0-py3-none-any.whl.metadata (1.5 kB)\n",
            "Requirement already satisfied: langchain-text-splitters<1.0.0,>=0.3.8 in /usr/local/lib/python3.11/dist-packages (from langchain<1.0.0,>=0.3.25->langchain-community) (0.3.8)\n",
            "Requirement already satisfied: pydantic<3.0.0,>=2.7.4 in /usr/local/lib/python3.11/dist-packages (from langchain<1.0.0,>=0.3.25->langchain-community) (2.11.4)\n",
            "Requirement already satisfied: jsonpatch<2.0,>=1.33 in /usr/local/lib/python3.11/dist-packages (from langchain-core<1.0.0,>=0.3.59->langchain-community) (1.33)\n",
            "Requirement already satisfied: packaging<25,>=23.2 in /usr/local/lib/python3.11/dist-packages (from langchain-core<1.0.0,>=0.3.59->langchain-community) (24.2)\n",
            "Requirement already satisfied: typing-extensions>=4.7 in /usr/local/lib/python3.11/dist-packages (from langchain-core<1.0.0,>=0.3.59->langchain-community) (4.13.2)\n",
            "Requirement already satisfied: httpx<1,>=0.23.0 in /usr/local/lib/python3.11/dist-packages (from langsmith<0.4,>=0.1.125->langchain-community) (0.28.1)\n",
            "Requirement already satisfied: orjson<4.0.0,>=3.9.14 in /usr/local/lib/python3.11/dist-packages (from langsmith<0.4,>=0.1.125->langchain-community) (3.10.18)\n",
            "Requirement already satisfied: requests-toolbelt<2.0.0,>=1.0.0 in /usr/local/lib/python3.11/dist-packages (from langsmith<0.4,>=0.1.125->langchain-community) (1.0.0)\n",
            "Requirement already satisfied: zstandard<0.24.0,>=0.23.0 in /usr/local/lib/python3.11/dist-packages (from langsmith<0.4,>=0.1.125->langchain-community) (0.23.0)\n",
            "Collecting python-dotenv>=0.21.0 (from pydantic-settings<3.0.0,>=2.4.0->langchain-community)\n",
            "  Downloading python_dotenv-1.1.0-py3-none-any.whl.metadata (24 kB)\n",
            "Requirement already satisfied: typing-inspection>=0.4.0 in /usr/local/lib/python3.11/dist-packages (from pydantic-settings<3.0.0,>=2.4.0->langchain-community) (0.4.1)\n",
            "Requirement already satisfied: charset-normalizer<4,>=2 in /usr/local/lib/python3.11/dist-packages (from requests<3,>=2->langchain-community) (3.4.2)\n",
            "Requirement already satisfied: idna<4,>=2.5 in /usr/local/lib/python3.11/dist-packages (from requests<3,>=2->langchain-community) (3.10)\n",
            "Requirement already satisfied: urllib3<3,>=1.21.1 in /usr/local/lib/python3.11/dist-packages (from requests<3,>=2->langchain-community) (2.4.0)\n",
            "Requirement already satisfied: certifi>=2017.4.17 in /usr/local/lib/python3.11/dist-packages (from requests<3,>=2->langchain-community) (2025.4.26)\n",
            "Requirement already satisfied: greenlet>=1 in /usr/local/lib/python3.11/dist-packages (from SQLAlchemy<3,>=1.4->langchain-community) (3.2.2)\n",
            "Requirement already satisfied: anyio in /usr/local/lib/python3.11/dist-packages (from httpx<1,>=0.23.0->langsmith<0.4,>=0.1.125->langchain-community) (4.9.0)\n",
            "Requirement already satisfied: httpcore==1.* in /usr/local/lib/python3.11/dist-packages (from httpx<1,>=0.23.0->langsmith<0.4,>=0.1.125->langchain-community) (1.0.9)\n",
            "Requirement already satisfied: h11>=0.16 in /usr/local/lib/python3.11/dist-packages (from httpcore==1.*->httpx<1,>=0.23.0->langsmith<0.4,>=0.1.125->langchain-community) (0.16.0)\n",
            "Requirement already satisfied: jsonpointer>=1.9 in /usr/local/lib/python3.11/dist-packages (from jsonpatch<2.0,>=1.33->langchain-core<1.0.0,>=0.3.59->langchain-community) (3.0.0)\n",
            "Requirement already satisfied: annotated-types>=0.6.0 in /usr/local/lib/python3.11/dist-packages (from pydantic<3.0.0,>=2.7.4->langchain<1.0.0,>=0.3.25->langchain-community) (0.7.0)\n",
            "Requirement already satisfied: pydantic-core==2.33.2 in /usr/local/lib/python3.11/dist-packages (from pydantic<3.0.0,>=2.7.4->langchain<1.0.0,>=0.3.25->langchain-community) (2.33.2)\n",
            "Collecting mypy-extensions>=0.3.0 (from typing-inspect<1,>=0.4.0->dataclasses-json<0.7,>=0.5.7->langchain-community)\n",
            "  Downloading mypy_extensions-1.1.0-py3-none-any.whl.metadata (1.1 kB)\n",
            "Requirement already satisfied: sniffio>=1.1 in /usr/local/lib/python3.11/dist-packages (from anyio->httpx<1,>=0.23.0->langsmith<0.4,>=0.1.125->langchain-community) (1.3.1)\n",
            "Downloading langchain_community-0.3.24-py3-none-any.whl (2.5 MB)\n",
            "\u001b[2K   \u001b[90m━━━━━━━━━━━━━━━━━━━━━━━━━━━━━━━━━━━━━━━━\u001b[0m \u001b[32m2.5/2.5 MB\u001b[0m \u001b[31m33.2 MB/s\u001b[0m eta \u001b[36m0:00:00\u001b[0m\n",
            "\u001b[?25hDownloading dataclasses_json-0.6.7-py3-none-any.whl (28 kB)\n",
            "Downloading httpx_sse-0.4.0-py3-none-any.whl (7.8 kB)\n",
            "Downloading pydantic_settings-2.9.1-py3-none-any.whl (44 kB)\n",
            "\u001b[2K   \u001b[90m━━━━━━━━━━━━━━━━━━━━━━━━━━━━━━━━━━━━━━━━\u001b[0m \u001b[32m44.4/44.4 kB\u001b[0m \u001b[31m3.6 MB/s\u001b[0m eta \u001b[36m0:00:00\u001b[0m\n",
            "\u001b[?25hDownloading marshmallow-3.26.1-py3-none-any.whl (50 kB)\n",
            "\u001b[2K   \u001b[90m━━━━━━━━━━━━━━━━━━━━━━━━━━━━━━━━━━━━━━━━\u001b[0m \u001b[32m50.9/50.9 kB\u001b[0m \u001b[31m4.1 MB/s\u001b[0m eta \u001b[36m0:00:00\u001b[0m\n",
            "\u001b[?25hDownloading python_dotenv-1.1.0-py3-none-any.whl (20 kB)\n",
            "Downloading typing_inspect-0.9.0-py3-none-any.whl (8.8 kB)\n",
            "Downloading mypy_extensions-1.1.0-py3-none-any.whl (5.0 kB)\n",
            "Installing collected packages: python-dotenv, mypy-extensions, marshmallow, httpx-sse, typing-inspect, pydantic-settings, dataclasses-json, langchain-community\n",
            "Successfully installed dataclasses-json-0.6.7 httpx-sse-0.4.0 langchain-community-0.3.24 marshmallow-3.26.1 mypy-extensions-1.1.0 pydantic-settings-2.9.1 python-dotenv-1.1.0 typing-inspect-0.9.0\n"
          ]
        }
      ]
    },
    {
      "cell_type": "code",
      "execution_count": 16,
      "metadata": {
        "id": "W3HNjO3GacVS"
      },
      "outputs": [],
      "source": [
        "\n",
        "from langchain_openai import ChatOpenAI\n",
        "import os\n",
        "os.environ[\"OPENAI_API_KEY\"] = ''\n",
        "os.environ[\"TAVILY_API_KEY\"]=''"
      ]
    },
    {
      "cell_type": "code",
      "source": [
        "# 상태 설정\n",
        "from typing import Annotated\n",
        "from typing_extensions import TypedDict\n",
        "from langgraph.graph.message import add_messages\n",
        "\n",
        "class State(TypedDict):\n",
        "  messages: Annotated[list, add_messages]\n"
      ],
      "metadata": {
        "id": "MZ4ZcD45ziFP"
      },
      "execution_count": 3,
      "outputs": []
    },
    {
      "cell_type": "code",
      "source": [
        "# ToolNode로 도구 노드 구축\n",
        "from langchain_community.tools.tavily_search import TavilySearchResults\n",
        "from langgraph.prebuilt import ToolNode, tools_condition\n",
        "\n",
        "tool = TavilySearchResults(max_results = 2)\n",
        "tools = [tool]\n",
        "tool_node = ToolNode(tools)"
      ],
      "metadata": {
        "id": "rlgJuQ1Yz5X4"
      },
      "execution_count": 8,
      "outputs": []
    },
    {
      "cell_type": "code",
      "source": [
        "# LLM 챗봇 설정\n",
        "from langchain_openai import ChatOpenAI\n",
        "llm = ChatOpenAI(model = \"gpt-4o-mini\")\n",
        "model_with_tools = llm.bind_tools(tools)\n",
        "\n",
        "\n",
        "def chatbot_function(state: State):\n",
        "  result = model_with_tools.invoke(state[\"messages\"])\n",
        "  return {\"messages\":[result]}"
      ],
      "metadata": {
        "id": "3M-jQQLf0OqA"
      },
      "execution_count": 9,
      "outputs": []
    },
    {
      "cell_type": "code",
      "source": [
        "# 그래프 구축\n",
        "from langgraph.graph import StateGraph\n",
        "\n",
        "workflow = StateGraph(State)\n",
        "\n",
        "workflow.add_node(\"chatbot\", chatbot_function)\n",
        "workflow.add_node(\"tools\", tool_node)\n",
        "\n",
        "workflow.add_edge(\"tools\", \"chatbot\")\n",
        "\n",
        "workflow.add_conditional_edges(\"chatbot\",tools_condition)\n",
        "\n",
        "workflow.set_entry_point(\"chatbot\")\n",
        "\n",
        "app = workflow.compile()\n",
        "\n",
        "# 그래프 시각화\n",
        "from IPython.display import Image, display\n",
        "\n",
        "display(Image(app.get_graph().draw_mermaid_png()))\n"
      ],
      "metadata": {
        "colab": {
          "base_uri": "https://localhost:8080/",
          "height": 266
        },
        "id": "yr6JzoUW3Xla",
        "outputId": "22b5e86e-c47f-4767-9997-5cdd68387a0f"
      },
      "execution_count": 12,
      "outputs": [
        {
          "output_type": "display_data",
          "data": {
            "image/png": "[encoded data removed]",
            "text/plain": [
              "<IPython.core.display.Image object>"
            ]
          },
          "metadata": {}
        }
      ]
    },
    {
      "cell_type": "code",
      "source": [
        "app.invoke({\n",
        "    \"messages\": {\n",
        "        \"role\":\"user\",\n",
        "        \"content\": \"지금 한국대통령 누구냐\"\n",
        "        }\n",
        "            })"
      ],
      "metadata": {
        "colab": {
          "base_uri": "https://localhost:8080/"
        },
        "id": "_n-jC4ZJ4g2m",
        "outputId": "2c308f48-f300-47e5-a9cc-a5e48152be83"
      },
      "execution_count": 13,
      "outputs": [
        {
          "output_type": "execute_result",
          "data": {
            "text/plain": [
              "{'messages': [HumanMessage(content='지금 한국대통령 누구냐', additional_kwargs={}, response_metadata={}, id='1bd9f0ad-dfa0-47cb-a6e0-930ed50d7508'),\n",
              "  AIMessage(content='', additional_kwargs={'tool_calls': [{'id': 'call_03pM1KAtlK57jaqs11ytGN8B', 'function': {'arguments': '{\"query\":\"현재 한국 대통령\"}', 'name': 'tavily_search_results_json'}, 'type': 'function'}], 'refusal': None}, response_metadata={'token_usage': {'completion_tokens': 20, 'prompt_tokens': 86, 'total_tokens': 106, 'completion_tokens_details': {'accepted_prediction_tokens': 0, 'audio_tokens': 0, 'reasoning_tokens': 0, 'rejected_prediction_tokens': 0}, 'prompt_tokens_details': {'audio_tokens': 0, 'cached_tokens': 0}}, 'model_name': 'gpt-4o-mini-2024-07-18', 'system_fingerprint': 'fp_34a54ae93c', 'id': 'chatcmpl-BcAICNpmVP0BgVIXtgYoK3pkBvxKD', 'service_tier': 'default', 'finish_reason': 'tool_calls', 'logprobs': None}, id='run--a78103ec-67c5-48d8-acf5-53dd0968e267-0', tool_calls=[{'name': 'tavily_search_results_json', 'args': {'query': '현재 한국 대통령'}, 'id': 'call_03pM1KAtlK57jaqs11ytGN8B', 'type': 'tool_call'}], usage_metadata={'input_tokens': 86, 'output_tokens': 20, 'total_tokens': 106, 'input_token_details': {'audio': 0, 'cache_read': 0}, 'output_token_details': {'audio': 0, 'reasoning': 0}}),\n",
              "  ToolMessage(content='[{\"title\": \"대한민국 대통령 목록 - 위키백과, 우리 모두의 백과사전\", \"url\": \"https://ko.wikipedia.org/wiki/%EB%8C%80%ED%95%9C%EB%AF%BC%EA%B5%AD_%EB%8C%80%ED%86%B5%EB%A0%B9_%EB%AA%A9%EB%A1%9D\", \"content\": \"1·2·3 이승만\\\\n4 윤보선\\\\n5·6·7·8·9 박정희\\\\n10 최규하\\\\n11·12 전두환\\\\n13 노태우\\\\n\\\\n| \\\\n\\\\n|\\\\n| \\\\n\\\\n14 김영삼\\\\n15 김대중\\\\n16 노무현\\\\n17 이명박\\\\n18 박근혜\\\\n19 문재인\\\\n20 윤석열\\\\n\\\\n|\\\\n| \\\\n\\\\n고조선\\\\n부여\\\\n고구려\\\\n백제\\\\n신라\\\\n가야\\\\n탐라\\\\n발해\\\\n후삼국\\\\n고려\\\\n조선\\\\n대한제국\\\\n일제강점기\\\\n조선 이왕\\\\n대한민국 임시정부\\\\n대한민국\\\\n조선민주주의인민공화국\\\\n\\\\n|\\\\n| \\\\n*   v\\\\n*   t\\\\n*   e\\\\n대한민국의 대통령과 3부요인 및 헌법기관장\\\\n|\\\\n| --- |\\\\n| \\\\n\\\\n대통령(공석)\\\\n국회의장(우원식)\\\\n대법원장(조희대)\\\\n헌법재판소장(공석)\\\\n국무총리(한덕수)\\\\n중앙선거관리위원장(노태악)\\\\n\\\\n|\\\\n원본 주소 \\\\\"https://ko.wikipedia.org/w/index.php?title=대한민국_대통령_목록&oldid=39406389\\\\\"\\\\n분류:\\\\n\\\\n대한민국의 대통령\\\\n대한민국 정치에 관한 목록\\\\n대통령 목록\\\\n대한민국 사람 목록\\\\n\\\\n숨은 분류: [...] 2022년 5월 10일 취임한 윤석열은 비상계엄으로 비롯한 탄핵소추로 대통령 직무가 정지되었으며, 그 결과 한덕수 국무총리가 권한대행을 수행했다.[4] 이후 한덕수 국무총리에 대한 탄핵소추 역시 국회에서 가결됨에 따라 한덕수의 직무도 정지되었다. 이로 인해 권한대행 2순위인 기획재정부 장관 최상목이 권한대행을 이어받아 수행하였다.[5] 2025년 3월 24일 국무총리 탄핵심판이 기각되면서 한덕수가 대통령 권한대행으로 복귀했다.[6] 이후 4월 4일 헌법재판소가 대통령 탄핵소추를 인용하면서 윤석열이 파면되었다.[7] 현재 제21대 대통령 선거가 진행되기 전까지 한덕수 국무총리가 대통령 권한대행을 수행할 예정이다.\\\\n대통령 목록\\\\n| 대[a] | 초상\\\\n이름\\\\n(생몰년) | 임기 | 선거 / 득표율[8] | 정부 | 정당 |\\\\n| --- | --- | --- | --- | --- | --- |\\\\n| 1 | \\\\n이승만 [...] 자유한국당(2017)\\\\n|  |\\\\n| 황교안 국무총리 권한대행 (000000002016-12-09-00002016년 12월 9일~000000002017-05-10-00002017년 5월 10일)[f]\\\\n|\\\\n| 19 | \\\\n문재인\\\\n(b. 1953)[33] | 000000002017-05-10-00002017년 5월 10일[g]~000000002022-05-09-00002022년 5월 9일 | 2017\\\\n직선 41.08% | 문재인 정부 | 더불어민주당(2017~2022) |  |\\\\n| 20 | \\\\n윤석열\\\\n(b. 1960)[35][36] | 000000002022-05-10-00002022년 5월 10일~000000002025-04-04-00002025년 4월 4일[h] | 2022\\\\n직선 48.56% | 윤석열 정부 | 국민의힘(2022~2025) |  |\", \"score\": 0.82186085}, {\"title\": \"대한민국 대통령 - 나무위키\", \"url\": \"https://namu.wiki/w/%EB%8C%80%ED%95%9C%EB%AF%BC%EA%B5%AD%20%EB%8C%80%ED%86%B5%EB%A0%B9\", \"content\": \"대한민국 대통령[ 펼치기 · 접기 ]제1-3대제4대제5-9대제10대이승만윤보선박정희최규하제11·12대제13대제14대제15대전두환노태우김영삼김대중제16대제17대제18대제19대노무현이명박박근혜문재인제20대윤석열대한민국 부통령 · 대한민국 대통령 권한대행 · 대한민국 대통령 배우자고조선 · 부여 · 원삼국 · 고구려 · 백제 · 가야 · 신라탐라 · 발해 · 태봉 · 후백제 · 후삼국 · 고려 · 조선 · 대한제국대한민국 임시정부 · 대한민국\\\\n대한민국 대통령大韓民國 大統領President of the Republic of Korea현직공석 (권한대행 한덕수)\\\\n1. 개요2. 상징3. 명칭 및 호칭\\\\n3.1. 명칭3.2. 호칭\\\\n4. 역사\\\\n4.1. 역대 대한민국 대통령\\\\n5. 대통령 권한\\\\n5.1. 헌법기관 구성에 관한 권한5.2. 입법, 행정, 사법에 관한 권한5.3. 국가 긴급권(긴급조치권)5.4. 대한민국 대통령 권한대행\\\\n6. 예우와 특권\\\\n6.1. 불소추 특권 [...] 대한민국 대통령은 대한민국의 대통령 기관(機關)·직위(職位) 및 이를 수행하는 인물을 가리킨다. 2025년 4월 4일 기준 대한민국의 현직 대통령은 없으며, 한덕수 국무총리가 대통령 권한을 대행하고 있다.  \\\\n대통령은 대한민국 헌법 제66조에서 정의하는 헌법기관으로, 국가원수[원]로서 외국에 대하여 국가를 대표하며(제1항), 국가의 독립·영토의 보전·국가의 계속성과 헌법을 수호할 책무를 지며(제2항), 조국의 평화적 통일을 위한 성실한 의무를 진다(제3항). 또 삼권(三權) 가운데 행정부의 수장을 맡는 정부수반으로서 모든 행정권은 대통령에 속해 있다.(제4항) [...] 24일1987년 대선직선 36.64%[19]14김영삼(1927 ~ 2015)1993년 2월 25일1998년 2월 24일1992년 대선직선 41.96%[20]15김대중(1924 ~ 2009)1998년 2월 25일2003년 2월 24일1997년 대선직선 40.27%[21]16노무현(1946 ~ 2009)2003년 2월 25일2008년 2월 24일2002년 대선직선 48.91%[22]고건 국무총리가 권한대행 (2004년 3월 12일 ~ 2004년 5월 14일)17이명박(1941 ~ )2008년 2월 25일2013년 2월 24일2007년 대선직선 48.67%[23]18박근혜(1952 ~ )2013년 2월 25일2017년 3월 10일2012년 대선직선 51.55%[24]황교안 국무총리가 권한대행 (2016년 12월 9일 ~ 2017년 5월 10일)19문재인(1953 ~ )2017년 5월 10일2022년 5월 9일2017년 대선직선 41.08%20윤석열(1960 ~ )2022년 5월\", \"score\": 0.80735475}]', name='tavily_search_results_json', id='17828318-d11f-4f96-8767-efbe1d76864f', tool_call_id='call_03pM1KAtlK57jaqs11ytGN8B', artifact={'query': '현재 한국 대통령', 'follow_up_questions': None, 'answer': None, 'images': [], 'results': [{'url': 'https://ko.wikipedia.org/wiki/%EB%8C%80%ED%95%9C%EB%AF%BC%EA%B5%AD_%EB%8C%80%ED%86%B5%EB%A0%B9_%EB%AA%A9%EB%A1%9D', 'title': '대한민국 대통령 목록 - 위키백과, 우리 모두의 백과사전', 'content': '1·2·3 이승만\\n4 윤보선\\n5·6·7·8·9 박정희\\n10 최규하\\n11·12 전두환\\n13 노태우\\n\\n| \\n\\n|\\n| \\n\\n14 김영삼\\n15 김대중\\n16 노무현\\n17 이명박\\n18 박근혜\\n19 문재인\\n20 윤석열\\n\\n|\\n| \\n\\n고조선\\n부여\\n고구려\\n백제\\n신라\\n가야\\n탐라\\n발해\\n후삼국\\n고려\\n조선\\n대한제국\\n일제강점기\\n조선 이왕\\n대한민국 임시정부\\n대한민국\\n조선민주주의인민공화국\\n\\n|\\n| \\n*   v\\n*   t\\n*   e\\n대한민국의 대통령과 3부요인 및 헌법기관장\\n|\\n| --- |\\n| \\n\\n대통령(공석)\\n국회의장(우원식)\\n대법원장(조희대)\\n헌법재판소장(공석)\\n국무총리(한덕수)\\n중앙선거관리위원장(노태악)\\n\\n|\\n원본 주소 \"https://ko.wikipedia.org/w/index.php?title=대한민국_대통령_목록&oldid=39406389\"\\n분류:\\n\\n대한민국의 대통령\\n대한민국 정치에 관한 목록\\n대통령 목록\\n대한민국 사람 목록\\n\\n숨은 분류: [...] 2022년 5월 10일 취임한 윤석열은 비상계엄으로 비롯한 탄핵소추로 대통령 직무가 정지되었으며, 그 결과 한덕수 국무총리가 권한대행을 수행했다.[4] 이후 한덕수 국무총리에 대한 탄핵소추 역시 국회에서 가결됨에 따라 한덕수의 직무도 정지되었다. 이로 인해 권한대행 2순위인 기획재정부 장관 최상목이 권한대행을 이어받아 수행하였다.[5] 2025년 3월 24일 국무총리 탄핵심판이 기각되면서 한덕수가 대통령 권한대행으로 복귀했다.[6] 이후 4월 4일 헌법재판소가 대통령 탄핵소추를 인용하면서 윤석열이 파면되었다.[7] 현재 제21대 대통령 선거가 진행되기 전까지 한덕수 국무총리가 대통령 권한대행을 수행할 예정이다.\\n대통령 목록\\n| 대[a] | 초상\\n이름\\n(생몰년) | 임기 | 선거 / 득표율[8] | 정부 | 정당 |\\n| --- | --- | --- | --- | --- | --- |\\n| 1 | \\n이승만 [...] 자유한국당(2017)\\n|  |\\n| 황교안 국무총리 권한대행 (000000002016-12-09-00002016년 12월 9일~000000002017-05-10-00002017년 5월 10일)[f]\\n|\\n| 19 | \\n문재인\\n(b. 1953)[33] | 000000002017-05-10-00002017년 5월 10일[g]~000000002022-05-09-00002022년 5월 9일 | 2017\\n직선 41.08% | 문재인 정부 | 더불어민주당(2017~2022) |  |\\n| 20 | \\n윤석열\\n(b. 1960)[35][36] | 000000002022-05-10-00002022년 5월 10일~000000002025-04-04-00002025년 4월 4일[h] | 2022\\n직선 48.56% | 윤석열 정부 | 국민의힘(2022~2025) |  |', 'score': 0.82186085, 'raw_content': None}, {'url': 'https://namu.wiki/w/%EB%8C%80%ED%95%9C%EB%AF%BC%EA%B5%AD%20%EB%8C%80%ED%86%B5%EB%A0%B9', 'title': '대한민국 대통령 - 나무위키', 'content': '대한민국 대통령[ 펼치기 · 접기 ]제1-3대제4대제5-9대제10대이승만윤보선박정희최규하제11·12대제13대제14대제15대전두환노태우김영삼김대중제16대제17대제18대제19대노무현이명박박근혜문재인제20대윤석열대한민국 부통령 · 대한민국 대통령 권한대행 · 대한민국 대통령 배우자고조선 · 부여 · 원삼국 · 고구려 · 백제 · 가야 · 신라탐라 · 발해 · 태봉 · 후백제 · 후삼국 · 고려 · 조선 · 대한제국대한민국 임시정부 · 대한민국\\n대한민국 대통령大韓民國 大統領President of the Republic of Korea현직공석 (권한대행 한덕수)\\n1. 개요2. 상징3. 명칭 및 호칭\\n3.1. 명칭3.2. 호칭\\n4. 역사\\n4.1. 역대 대한민국 대통령\\n5. 대통령 권한\\n5.1. 헌법기관 구성에 관한 권한5.2. 입법, 행정, 사법에 관한 권한5.3. 국가 긴급권(긴급조치권)5.4. 대한민국 대통령 권한대행\\n6. 예우와 특권\\n6.1. 불소추 특권 [...] 대한민국 대통령은 대한민국의 대통령 기관(機關)·직위(職位) 및 이를 수행하는 인물을 가리킨다. 2025년 4월 4일 기준 대한민국의 현직 대통령은 없으며, 한덕수 국무총리가 대통령 권한을 대행하고 있다.  \\n대통령은 대한민국 헌법 제66조에서 정의하는 헌법기관으로, 국가원수[원]로서 외국에 대하여 국가를 대표하며(제1항), 국가의 독립·영토의 보전·국가의 계속성과 헌법을 수호할 책무를 지며(제2항), 조국의 평화적 통일을 위한 성실한 의무를 진다(제3항). 또 삼권(三權) 가운데 행정부의 수장을 맡는 정부수반으로서 모든 행정권은 대통령에 속해 있다.(제4항) [...] 24일1987년 대선직선 36.64%[19]14김영삼(1927 ~ 2015)1993년 2월 25일1998년 2월 24일1992년 대선직선 41.96%[20]15김대중(1924 ~ 2009)1998년 2월 25일2003년 2월 24일1997년 대선직선 40.27%[21]16노무현(1946 ~ 2009)2003년 2월 25일2008년 2월 24일2002년 대선직선 48.91%[22]고건 국무총리가 권한대행 (2004년 3월 12일 ~ 2004년 5월 14일)17이명박(1941 ~ )2008년 2월 25일2013년 2월 24일2007년 대선직선 48.67%[23]18박근혜(1952 ~ )2013년 2월 25일2017년 3월 10일2012년 대선직선 51.55%[24]황교안 국무총리가 권한대행 (2016년 12월 9일 ~ 2017년 5월 10일)19문재인(1953 ~ )2017년 5월 10일2022년 5월 9일2017년 대선직선 41.08%20윤석열(1960 ~ )2022년 5월', 'score': 0.80735475, 'raw_content': None}], 'response_time': 2.13}),\n",
              "  AIMessage(content='현재 대한민국의 대통령은 윤석열입니다. 윤석열은 2022년 5월 10일에 취임하여 2025년 4월 4일까지 대통령직을 수행할 예정입니다. 그러나 현재 그로 인한 문제가 발생하여 권한대행은 한덕수가 맡고 있습니다. \\n\\n자세한 내용은 [여기](https://ko.wikipedia.org/wiki/%EB%8C%80%ED%95%9C%EB%AF%BC%EA%B5%AD_%EB%8C%80%ED%86%B5%EB%A0%B9_%EB%AA%A9%EB%A1%9D)에서 확인하실 수 있습니다.', additional_kwargs={'refusal': None}, response_metadata={'token_usage': {'completion_tokens': 150, 'prompt_tokens': 2089, 'total_tokens': 2239, 'completion_tokens_details': {'accepted_prediction_tokens': 0, 'audio_tokens': 0, 'reasoning_tokens': 0, 'rejected_prediction_tokens': 0}, 'prompt_tokens_details': {'audio_tokens': 0, 'cached_tokens': 0}}, 'model_name': 'gpt-4o-mini-2024-07-18', 'system_fingerprint': 'fp_34a54ae93c', 'id': 'chatcmpl-BcAIFV9qHUjwnDeZo4mQ1IRXwh2lS', 'service_tier': 'default', 'finish_reason': 'stop', 'logprobs': None}, id='run--a713db24-8456-4be0-bfbd-cc958fb8846d-0', usage_metadata={'input_tokens': 2089, 'output_tokens': 150, 'total_tokens': 2239, 'input_token_details': {'audio': 0, 'cache_read': 0}, 'output_token_details': {'audio': 0, 'reasoning': 0}})]}"
            ]
          },
          "metadata": {},
          "execution_count": 13
        }
      ]
    },
    {
      "cell_type": "code",
      "source": [
        "app.invoke({\n",
        "    \"messages\": {\n",
        "        \"role\":\"user\",\n",
        "        \"content\": \"사과 영어로\"\n",
        "        }\n",
        "            })"
      ],
      "metadata": {
        "colab": {
          "base_uri": "https://localhost:8080/"
        },
        "id": "o_06SyJr4_TI",
        "outputId": "c333c0a2-6f93-4e3d-cd21-edec3ee409a3"
      },
      "execution_count": 15,
      "outputs": [
        {
          "output_type": "execute_result",
          "data": {
            "text/plain": [
              "{'messages': [HumanMessage(content='사과 영어로', additional_kwargs={}, response_metadata={}, id='a20420be-607b-4ae5-b2ee-bd6e66fab07b'),\n",
              "  AIMessage(content='사과는 영어로 \"apple\"이라고 합니다.', additional_kwargs={'refusal': None}, response_metadata={'token_usage': {'completion_tokens': 12, 'prompt_tokens': 83, 'total_tokens': 95, 'completion_tokens_details': {'accepted_prediction_tokens': 0, 'audio_tokens': 0, 'reasoning_tokens': 0, 'rejected_prediction_tokens': 0}, 'prompt_tokens_details': {'audio_tokens': 0, 'cached_tokens': 0}}, 'model_name': 'gpt-4o-mini-2024-07-18', 'system_fingerprint': 'fp_34a54ae93c', 'id': 'chatcmpl-BcAKDm6U7n3mWWwFrtzOYwU0qlI1q', 'service_tier': 'default', 'finish_reason': 'stop', 'logprobs': None}, id='run--4c34aab5-539c-4ff9-8eb7-4ff2cce66d98-0', usage_metadata={'input_tokens': 83, 'output_tokens': 12, 'total_tokens': 95, 'input_token_details': {'audio': 0, 'cache_read': 0}, 'output_token_details': {'audio': 0, 'reasoning': 0}})]}"
            ]
          },
          "metadata": {},
          "execution_count": 15
        }
      ]
    },
    {
      "cell_type": "code",
      "source": [],
      "metadata": {
        "id": "Rs61ca-m5J2W"
      },
      "execution_count": null,
      "outputs": []
    }
  ]
}