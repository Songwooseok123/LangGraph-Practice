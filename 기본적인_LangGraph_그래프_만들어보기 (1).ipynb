{
  "nbformat": 4,
  "nbformat_minor": 0,
  "metadata": {
    "colab": {
      "provenance": []
    },
    "kernelspec": {
      "name": "python3",
      "display_name": "Python 3"
    },
    "language_info": {
      "name": "python"
    }
  },
  "cells": [
    {
      "cell_type": "code",
      "source": [
        "pip install -U langgraph"
      ],
      "metadata": {
        "collapsed": true,
        "id": "5dYzKIXlVN4l"
      },
      "execution_count": null,
      "outputs": []
    },
    {
      "cell_type": "code",
      "source": [
        "# 필요한 타입 힌트와 그래프 클래스 불러오기\n",
        "from typing import TypedDict  # 딕셔너리 형태의 데이터에 타입을 지정할 수 있게 해주는 모듈\n",
        "\n",
        "# Annotated는 나중에 타입에 부가 정보를 달 때 사용할 수 있습니다. (이번 예제에서는 사용하지 않음)\n",
        "from typing import Annotated\n",
        "\n",
        "# LangGraph에서 상태 그래프와 시작/끝 지점을 가져옵니다.\n",
        "from langgraph.graph import StateGraph, START, END # LangGraph에서 그래프 생성에 필요한 요소들 불러오기\n",
        "\n",
        "# 1.상태(state)의 틀을 정의\n",
        "# 이 틀은 그래프 안에서 각 노드가 주고받을 정보를 명확하게 정의해 줍니다.\n",
        "class State(TypedDict):\n",
        "  counter: int          # 정수형 카운터, 노드가 실행될 때마다 1씩 증가시킬 예정입니다.\n",
        "  alphabet: list[str]   # 문자열 리스트, 예: [\"Hello\"]와 같은 값을 저장할 수 있습니다.\n",
        "\n",
        "# 2. 상태 그래프(State Graph) 생성\n",
        "# 위에서 정의한 State라는 상태 틀을 기반으로 LangGraph의 상태 그래프를 만듭니다.\n",
        "# 이 그래프는 노드 간 데이터가 정해진 구조(State)에 따라 전달되도록 보장합니다.\n",
        "# 입력: state (위에서 정의한 State 타입을 따릅니다)\n",
        "# 출력: 수정된 state를 그대로 반환합니다.\n",
        "def node_a(state: State):\n",
        "  state['counter'] += 1           # counter 값을 1 증가시킵니다.\n",
        "  state['alphabet'] = [\"Hello\"]   # alphabet 필드에 \"Hello\"라는 문자열을 리스트로 저장합니다.\n",
        "  return state                    # 수정된 state를 반환합니다.\n",
        "\n",
        "\n",
        "# 그래프를 만들기 위한 빌더 객체를 생성합니다.\n",
        "# 여기서 우리가 정의한 State 클래스를 사용해 그래프의 상태 정보를 명시합니다.\n",
        "graph_builder = StateGraph(State)\n",
        "\n",
        "# 그래프에 노드를 추가합니다.\n",
        "# \"Songwooseok AI\"라는 이름의 노드를 만들고, 이 노드는 node_a라는 함수를 실행합니다.\n",
        "graph_builder.add_node(\"Songwooseok AI\", node_a)\n",
        "\n",
        "# 그래프의 시작 지점(START)에서 \"Songwooseok AI\" 노드로 연결되는 엣지를 추가합니다.\n",
        "graph_builder.add_edge(START, \"Songwooseok AI\")\n",
        "\n",
        "# \"Songwooseok AI\" 노드에서 끝 지점(END)으로 이어지는 엣지를 추가합니다.\n",
        "graph_builder.add_edge(\"Songwooseok AI\", END)\n",
        "\n",
        "# 그래프를 컴파일하여 실행 가능한 형태로 만듭니다.\n",
        "# 이렇게 하면 입력값을 주었을 때 노드를 통과하며 상태가 업데이트되는 그래프가 완성됩니다.\n",
        "graph = graph_builder.compile()\n"
      ],
      "metadata": {
        "id": "klnud_fvVbuf"
      },
      "execution_count": null,
      "outputs": []
    },
    {
      "cell_type": "code",
      "source": [
        "# 그래프 시각화\n",
        "from IPython.display import Image, display\n",
        "\n",
        "display(Image(graph.get_graph().draw_mermaid_png()))\n"
      ],
      "metadata": {
        "colab": {
          "base_uri": "https://localhost:8080/",
          "height": 251
        },
        "id": "avGTZovTXd9P",
        "outputId": "8d2dea74-a020-4f97-f47c-36de405ae8b9"
      },
      "execution_count": null,
      "outputs": [
        {
          "output_type": "display_data",
          "data": {
            "image/png": "[encoded data removed]",
            "text/plain": [
              "<IPython.core.display.Image object>"
            ]
          },
          "metadata": {}
        }
      ]
    },
    {
      "cell_type": "code",
      "source": [
        "initial_state ={\n",
        "    \"counter\": 0 ,\n",
        "  \"alphabet\": []\n",
        "}\n",
        "state  = initial_state\n",
        "\n",
        "for _ in range(3):\n",
        "  state = graph.invoke(state)\n",
        "  print(state)"
      ],
      "metadata": {
        "colab": {
          "base_uri": "https://localhost:8080/"
        },
        "id": "q5tuXPIOXshb",
        "outputId": "35be56d8-920b-48f4-8e76-f6dcaffc75da"
      },
      "execution_count": null,
      "outputs": [
        {
          "output_type": "stream",
          "name": "stdout",
          "text": [
            "{'counter': 1, 'alphabet': ['Hello']}\n",
            "{'counter': 2, 'alphabet': ['Hello']}\n",
            "{'counter': 3, 'alphabet': ['Hello']}\n"
          ]
        }
      ]
    },
    {
      "cell_type": "code",
      "source": [
        "# 이번엔 누적(add) 방식으로 병합될 수 있도록 Annotated 사용\n",
        "\n",
        "import operator\n",
        "\n",
        "class State(TypedDict):\n",
        "  counter: int\n",
        "  alphabet: Annotated[list[str],operator.add] #########3\n",
        "def node_a(state: State):\n",
        "  state['counter'] += 1\n",
        "  state['alphabet'] = [\"Hello\"]\n",
        "  return state\n",
        "\n",
        "\n",
        "graph_builder = StateGraph(State)\n",
        "graph_builder.add_node(\"Songwooseok AI\", node_a)\n",
        "graph_builder.add_edge(START, \"Songwooseok AI\")\n",
        "graph_builder.add_edge(\"Songwooseok AI\", END)\n",
        "graph = graph_builder.compile()\n",
        "\n",
        "initial_state ={\n",
        "    \"counter\": 0 ,\n",
        "  \"alphabet\": []\n",
        "}\n",
        "state  = initial_state\n",
        "\n",
        "for _ in range(3):\n",
        "  state = graph.invoke(state)\n",
        "  print(state)"
      ],
      "metadata": {
        "colab": {
          "base_uri": "https://localhost:8080/"
        },
        "id": "2HcK1QtrY8wO",
        "outputId": "692da8cc-7842-4648-af5e-3f0b10cd4c67"
      },
      "execution_count": null,
      "outputs": [
        {
          "output_type": "stream",
          "name": "stdout",
          "text": [
            "{'counter': 1, 'alphabet': ['Hello']}\n",
            "{'counter': 2, 'alphabet': ['Hello', 'Hello']}\n",
            "{'counter': 3, 'alphabet': ['Hello', 'Hello', 'Hello']}\n"
          ]
        }
      ]
    },
    {
      "cell_type": "code",
      "source": [
        "!pip install langchain-openai"
      ],
      "metadata": {
        "colab": {
          "base_uri": "https://localhost:8080/"
        },
        "collapsed": true,
        "id": "BiaxXZQBaVfR",
        "outputId": "fbe4bb3a-601e-4471-946f-b82bdeaa801c"
      },
      "execution_count": null,
      "outputs": [
        {
          "output_type": "stream",
          "name": "stdout",
          "text": [
            "Collecting langchain-openai\n",
            "  Downloading langchain_openai-0.3.18-py3-none-any.whl.metadata (2.3 kB)\n",
            "Collecting langchain-core<1.0.0,>=0.3.61 (from langchain-openai)\n",
            "  Downloading langchain_core-0.3.62-py3-none-any.whl.metadata (5.8 kB)\n",
            "Requirement already satisfied: openai<2.0.0,>=1.68.2 in /usr/local/lib/python3.11/dist-packages (from langchain-openai) (1.81.0)\n",
            "Requirement already satisfied: tiktoken<1,>=0.7 in /usr/local/lib/python3.11/dist-packages (from langchain-openai) (0.9.0)\n",
            "Requirement already satisfied: langsmith<0.4,>=0.1.126 in /usr/local/lib/python3.11/dist-packages (from langchain-core<1.0.0,>=0.3.61->langchain-openai) (0.3.42)\n",
            "Requirement already satisfied: tenacity!=8.4.0,<10.0.0,>=8.1.0 in /usr/local/lib/python3.11/dist-packages (from langchain-core<1.0.0,>=0.3.61->langchain-openai) (9.1.2)\n",
            "Requirement already satisfied: jsonpatch<2.0,>=1.33 in /usr/local/lib/python3.11/dist-packages (from langchain-core<1.0.0,>=0.3.61->langchain-openai) (1.33)\n",
            "Requirement already satisfied: PyYAML>=5.3 in /usr/local/lib/python3.11/dist-packages (from langchain-core<1.0.0,>=0.3.61->langchain-openai) (6.0.2)\n",
            "Requirement already satisfied: packaging<25,>=23.2 in /usr/local/lib/python3.11/dist-packages (from langchain-core<1.0.0,>=0.3.61->langchain-openai) (24.2)\n",
            "Requirement already satisfied: typing-extensions>=4.7 in /usr/local/lib/python3.11/dist-packages (from langchain-core<1.0.0,>=0.3.61->langchain-openai) (4.13.2)\n",
            "Requirement already satisfied: pydantic>=2.7.4 in /usr/local/lib/python3.11/dist-packages (from langchain-core<1.0.0,>=0.3.61->langchain-openai) (2.11.4)\n",
            "Requirement already satisfied: anyio<5,>=3.5.0 in /usr/local/lib/python3.11/dist-packages (from openai<2.0.0,>=1.68.2->langchain-openai) (4.9.0)\n",
            "Requirement already satisfied: distro<2,>=1.7.0 in /usr/local/lib/python3.11/dist-packages (from openai<2.0.0,>=1.68.2->langchain-openai) (1.9.0)\n",
            "Requirement already satisfied: httpx<1,>=0.23.0 in /usr/local/lib/python3.11/dist-packages (from openai<2.0.0,>=1.68.2->langchain-openai) (0.28.1)\n",
            "Requirement already satisfied: jiter<1,>=0.4.0 in /usr/local/lib/python3.11/dist-packages (from openai<2.0.0,>=1.68.2->langchain-openai) (0.10.0)\n",
            "Requirement already satisfied: sniffio in /usr/local/lib/python3.11/dist-packages (from openai<2.0.0,>=1.68.2->langchain-openai) (1.3.1)\n",
            "Requirement already satisfied: tqdm>4 in /usr/local/lib/python3.11/dist-packages (from openai<2.0.0,>=1.68.2->langchain-openai) (4.67.1)\n",
            "Requirement already satisfied: regex>=2022.1.18 in /usr/local/lib/python3.11/dist-packages (from tiktoken<1,>=0.7->langchain-openai) (2024.11.6)\n",
            "Requirement already satisfied: requests>=2.26.0 in /usr/local/lib/python3.11/dist-packages (from tiktoken<1,>=0.7->langchain-openai) (2.32.3)\n",
            "Requirement already satisfied: idna>=2.8 in /usr/local/lib/python3.11/dist-packages (from anyio<5,>=3.5.0->openai<2.0.0,>=1.68.2->langchain-openai) (3.10)\n",
            "Requirement already satisfied: certifi in /usr/local/lib/python3.11/dist-packages (from httpx<1,>=0.23.0->openai<2.0.0,>=1.68.2->langchain-openai) (2025.4.26)\n",
            "Requirement already satisfied: httpcore==1.* in /usr/local/lib/python3.11/dist-packages (from httpx<1,>=0.23.0->openai<2.0.0,>=1.68.2->langchain-openai) (1.0.9)\n",
            "Requirement already satisfied: h11>=0.16 in /usr/local/lib/python3.11/dist-packages (from httpcore==1.*->httpx<1,>=0.23.0->openai<2.0.0,>=1.68.2->langchain-openai) (0.16.0)\n",
            "Requirement already satisfied: jsonpointer>=1.9 in /usr/local/lib/python3.11/dist-packages (from jsonpatch<2.0,>=1.33->langchain-core<1.0.0,>=0.3.61->langchain-openai) (3.0.0)\n",
            "Requirement already satisfied: orjson<4.0.0,>=3.9.14 in /usr/local/lib/python3.11/dist-packages (from langsmith<0.4,>=0.1.126->langchain-core<1.0.0,>=0.3.61->langchain-openai) (3.10.18)\n",
            "Requirement already satisfied: requests-toolbelt<2.0.0,>=1.0.0 in /usr/local/lib/python3.11/dist-packages (from langsmith<0.4,>=0.1.126->langchain-core<1.0.0,>=0.3.61->langchain-openai) (1.0.0)\n",
            "Requirement already satisfied: zstandard<0.24.0,>=0.23.0 in /usr/local/lib/python3.11/dist-packages (from langsmith<0.4,>=0.1.126->langchain-core<1.0.0,>=0.3.61->langchain-openai) (0.23.0)\n",
            "Requirement already satisfied: annotated-types>=0.6.0 in /usr/local/lib/python3.11/dist-packages (from pydantic>=2.7.4->langchain-core<1.0.0,>=0.3.61->langchain-openai) (0.7.0)\n",
            "Requirement already satisfied: pydantic-core==2.33.2 in /usr/local/lib/python3.11/dist-packages (from pydantic>=2.7.4->langchain-core<1.0.0,>=0.3.61->langchain-openai) (2.33.2)\n",
            "Requirement already satisfied: typing-inspection>=0.4.0 in /usr/local/lib/python3.11/dist-packages (from pydantic>=2.7.4->langchain-core<1.0.0,>=0.3.61->langchain-openai) (0.4.1)\n",
            "Requirement already satisfied: charset-normalizer<4,>=2 in /usr/local/lib/python3.11/dist-packages (from requests>=2.26.0->tiktoken<1,>=0.7->langchain-openai) (3.4.2)\n",
            "Requirement already satisfied: urllib3<3,>=1.21.1 in /usr/local/lib/python3.11/dist-packages (from requests>=2.26.0->tiktoken<1,>=0.7->langchain-openai) (2.4.0)\n",
            "Downloading langchain_openai-0.3.18-py3-none-any.whl (63 kB)\n",
            "\u001b[2K   \u001b[90m━━━━━━━━━━━━━━━━━━━━━━━━━━━━━━━━━━━━━━━━\u001b[0m \u001b[32m63.4/63.4 kB\u001b[0m \u001b[31m1.6 MB/s\u001b[0m eta \u001b[36m0:00:00\u001b[0m\n",
            "\u001b[?25hDownloading langchain_core-0.3.62-py3-none-any.whl (438 kB)\n",
            "\u001b[2K   \u001b[90m━━━━━━━━━━━━━━━━━━━━━━━━━━━━━━━━━━━━━━━━\u001b[0m \u001b[32m438.4/438.4 kB\u001b[0m \u001b[31m9.6 MB/s\u001b[0m eta \u001b[36m0:00:00\u001b[0m\n",
            "\u001b[?25hInstalling collected packages: langchain-core, langchain-openai\n",
            "  Attempting uninstall: langchain-core\n",
            "    Found existing installation: langchain-core 0.3.60\n",
            "    Uninstalling langchain-core-0.3.60:\n",
            "      Successfully uninstalled langchain-core-0.3.60\n",
            "Successfully installed langchain-core-0.3.62 langchain-openai-0.3.18\n"
          ]
        }
      ]
    },
    {
      "cell_type": "markdown",
      "source": [
        "# Message를 담는 그래프 만들기"
      ],
      "metadata": {
        "id": "UIbiLucFa0vY"
      }
    },
    {
      "cell_type": "code",
      "source": [
        "from langgraph.graph.message import add_messages\n",
        "class State(TypedDict):\n",
        "  messages: Annotated[list[str],add_messages] ####       # 'messages'라는 키를 가진 리스트를 상태로 정의하며, 이 리스트는 누적(additive) 방식으로 메시지를 추가함\n",
        "\n",
        "\n",
        "graph_builder = StateGraph(State)\n",
        "\n",
        "\n",
        "from langchain_openai import ChatOpenAI\n",
        "import os\n",
        "os.environ[\"OPENAI_API_KEY\"] = ''\n",
        "\n",
        "llm = ChatOpenAI(model = \"gpt-4o-mini\")\n",
        "\n",
        "def chatbot(state: State):\n",
        "  return {\"messages\": [llm.invoke(state[\"messages\"])]}\n",
        "\n",
        "graph_builder.add_node(\"Songwooseok AI\", chatbot) # 위 chatbot 함수를 그래프의 하나의 노드로 추가, 노드 이름은 \"Songwooseok AI\"\n",
        "graph_builder.set_entry_point(\"Songwooseok AI\")\n",
        "graph_builder.set_finish_point(\"Songwooseok AI\")\n",
        "graph = graph_builder.compile()\n",
        "\n",
        "# 그래프 시각화\n",
        "from IPython.display import Image, display\n",
        "\n",
        "display(Image(graph.get_graph().draw_mermaid_png()))\n"
      ],
      "metadata": {
        "colab": {
          "base_uri": "https://localhost:8080/",
          "height": 251
        },
        "id": "TxXINIxUa3OQ",
        "outputId": "0ed56b4d-187f-47c2-88f5-5c5dec3378ab"
      },
      "execution_count": null,
      "outputs": [
        {
          "output_type": "display_data",
          "data": {
            "image/png": "[encoded data removed]",
            "text/plain": [
              "<IPython.core.display.Image object>"
            ]
          },
          "metadata": {}
        }
      ]
    },
    {
      "cell_type": "code",
      "source": [
        "while True:\n",
        "  user_input = input(\"우석: \")\n",
        "  if user_input.lower() in [\"quit\",\"exit\",\"q\"]:\n",
        "    print(\"빠이\")\n",
        "    break\n",
        "  for event in graph.stream({\"messages\": (\"user\",user_input)}):\n",
        "    for value in event.values():\n",
        "      print(\"SongAI:\", value[\"messages\"][-1].content)"
      ],
      "metadata": {
        "colab": {
          "base_uri": "https://localhost:8080/"
        },
        "id": "8PBXS4NEc7ld",
        "outputId": "2957a8b2-117c-425d-ef5a-451526e17023"
      },
      "execution_count": null,
      "outputs": [
        {
          "output_type": "stream",
          "name": "stdout",
          "text": [
            "우석: 하윙\n",
            "SongAI: 안녕하세요! 어떻게 도와드릴까요?\n",
            "우석: 공부 재밌다^^\n",
            "SongAI: 공부가 재밌다니 정말 좋은 거네요! 어떤 과목이나 주제가 특히 재미있나요? 같이 이야기해봐요!\n",
            "우석: quit\n",
            "빠이\n"
          ]
        }
      ]
    },
    {
      "cell_type": "code",
      "source": [
        "# 이제 state 클래스 매번 만드는 거 귀찮으니까, MessagesState 사용\n",
        "from langgraph.graph import MessagesState\n",
        "\n",
        "graph_builder = StateGraph(MessagesState)\n",
        "def chatbot(state: State):\n",
        "  return {\"messages\": [llm.invoke(state[\"messages\"])]}\n",
        "\n",
        "graph_builder.add_node(\"Songwooseok AI\", chatbot)\n",
        "graph_builder.set_entry_point(\"Songwooseok AI\")\n",
        "graph_builder.set_finish_point(\"Songwooseok AI\")\n",
        "graph = graph_builder.compile()\n",
        "\n"
      ],
      "metadata": {
        "id": "XvMT6LhwhVhP"
      },
      "execution_count": null,
      "outputs": []
    },
    {
      "cell_type": "code",
      "source": [
        "while True:\n",
        "  user_input = input(\"우석: \")\n",
        "  if user_input.lower() in [\"quit\",\"exit\",\"q\"]:\n",
        "    print(\"빠이\")\n",
        "    break\n",
        "  for event in graph.stream({\"messages\": (\"user\",user_input)}):\n",
        "    for value in event.values():\n",
        "      print(\"SongAI:\", value[\"messages\"][-1].content)"
      ],
      "metadata": {
        "colab": {
          "base_uri": "https://localhost:8080/"
        },
        "id": "kxEpKKBPjIJv",
        "outputId": "f38d54de-d456-4fc6-a39c-01ff3f4281e7"
      },
      "execution_count": null,
      "outputs": [
        {
          "output_type": "stream",
          "name": "stdout",
          "text": [
            "우석: 이것도 되네\n",
            "SongAI: 네, 맞아요! 어떤 도움이 필요하신가요? 궁금한 점이나 이야기하고 싶은 주제가 있으면 말씀해 주세요.\n",
            "우석: q\n",
            "빠이\n"
          ]
        }
      ]
    },
    {
      "cell_type": "code",
      "source": [
        "# MessaggesState 상속해서 사용하면서, 특성 추가 해서 사용할 수도 있음.\n",
        "\n",
        "from langgraph.graph import MessagesState\n",
        "from langchain_core.messages import HumanMessage\n",
        "class State(MessagesState):\n",
        "  counter: int ##################\n",
        "\n",
        "graph_builder = StateGraph(State)\n",
        "def chatbot(state: State):\n",
        "  state['counter'] = state.get('counter',0) +1  # counter가 없으면 0으로 지정하고, 있으면 1을 더해라\n",
        "  return {\"messages\": [llm.invoke(state[\"messages\"])],\n",
        "          \"counter\":state['counter']\n",
        "          }\n",
        "\n",
        "graph_builder.add_node(\"Songwooseok AI\", chatbot)\n",
        "graph_builder.set_entry_point(\"Songwooseok AI\")\n",
        "graph_builder.set_finish_point(\"Songwooseok AI\")\n",
        "graph = graph_builder.compile()\n",
        "\n",
        "initial_state ={\n",
        "    \"messages\": [HumanMessage(content = \"하이\")],\n",
        "    \"counter\": 0\n",
        "\n",
        "}\n",
        "\n",
        "result= graph.invoke(initial_state)\n",
        "\n",
        "print(result) # result보면 ai 응답과 counter값 1로 업데이트 된거 볼 수 있음"
      ],
      "metadata": {
        "colab": {
          "base_uri": "https://localhost:8080/"
        },
        "id": "7vZ1KyjhjPSy",
        "outputId": "14b89db9-9f05-4f07-cf46-c66c35d9ad8e"
      },
      "execution_count": null,
      "outputs": [
        {
          "output_type": "stream",
          "name": "stdout",
          "text": [
            "{'messages': [HumanMessage(content='하이', additional_kwargs={}, response_metadata={}, id='4b248011-2955-4ef6-9917-0c16c49697bb'), AIMessage(content='안녕하세요! 어떻게 도와드릴까요?', additional_kwargs={'refusal': None}, response_metadata={'token_usage': {'completion_tokens': 10, 'prompt_tokens': 9, 'total_tokens': 19, 'completion_tokens_details': {'accepted_prediction_tokens': 0, 'audio_tokens': 0, 'reasoning_tokens': 0, 'rejected_prediction_tokens': 0}, 'prompt_tokens_details': {'audio_tokens': 0, 'cached_tokens': 0}}, 'model_name': 'gpt-4o-mini-2024-07-18', 'system_fingerprint': 'fp_54eb4bd693', 'id': 'chatcmpl-Bc92nLb4mr4mvCugA3VU5MSVF6iju', 'service_tier': 'default', 'finish_reason': 'stop', 'logprobs': None}, id='run--49e0b637-e76b-4560-9fb6-01747f7f402c-0', usage_metadata={'input_tokens': 9, 'output_tokens': 10, 'total_tokens': 19, 'input_token_details': {'audio': 0, 'cache_read': 0}, 'output_token_details': {'audio': 0, 'reasoning': 0}})], 'counter': 1}\n"
          ]
        }
      ]
    },
    {
      "cell_type": "code",
      "source": [
        "state = initial_state\n",
        "for _ in range(3):\n",
        "  state = graph.invoke(state)\n",
        "  print(f\"Counter: {state['counter']}\")\n",
        "  print(f\"Last messages: {state['messages'][-1].content}\")\n",
        "  print(\"____________________________\")"
      ],
      "metadata": {
        "colab": {
          "base_uri": "https://localhost:8080/"
        },
        "id": "hwYR0z27kNsp",
        "outputId": "c30355a1-be95-4764-f7ff-dbaf228fdc47"
      },
      "execution_count": null,
      "outputs": [
        {
          "output_type": "stream",
          "name": "stdout",
          "text": [
            "Counter: 1\n",
            "Last messages: 안녕하세요! 어떻게 도와드릴까요?\n",
            "____________________________\n",
            "Counter: 2\n",
            "Last messages: 안녕하세요! 무엇을 도와드릴까요? 필요한 정보나 질문이 있으면 말씀해 주세요.\n",
            "____________________________\n",
            "Counter: 3\n",
            "Last messages: 안녕하세요! 무엇을 도와드릴까요? 필요한 정보나 질문이 있으면 말씀해 주세요.\n",
            "____________________________\n"
          ]
        }
      ]
    }
  ]
}