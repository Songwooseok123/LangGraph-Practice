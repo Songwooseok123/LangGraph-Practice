{
  "nbformat": 4,
  "nbformat_minor": 0,
  "metadata": {
    "colab": {
      "provenance": []
    },
    "kernelspec": {
      "name": "python3",
      "display_name": "Python 3"
    },
    "language_info": {
      "name": "python"
    }
  },
  "cells": [
    {
      "cell_type": "code",
      "execution_count": null,
      "metadata": {
        "collapsed": true,
        "id": "4DwcsVmHnC0l"
      },
      "outputs": [],
      "source": [
        "!pip install -U langgraph\n",
        "!pip install langchain-openai"
      ]
    },
    {
      "cell_type": "code",
      "source": [
        "import os\n",
        "os.environ[\"OPENAI_API_KEY\"] = ''\n"
      ],
      "metadata": {
        "id": "HAsBFm3kqrZQ"
      },
      "execution_count": 2,
      "outputs": []
    },
    {
      "cell_type": "code",
      "source": [],
      "metadata": {
        "id": "8feRSAXzrFO8"
      },
      "execution_count": null,
      "outputs": []
    },
    {
      "cell_type": "code",
      "source": [],
      "metadata": {
        "id": "3MnaVRhhrFeA"
      },
      "execution_count": null,
      "outputs": []
    },
    {
      "cell_type": "code",
      "source": [
        "from langchain_core.tools import tool\n",
        "from langgraph.prebuilt import ToolNode"
      ],
      "metadata": {
        "id": "bVq90jpXqreW"
      },
      "execution_count": 4,
      "outputs": []
    },
    {
      "cell_type": "code",
      "source": [
        "@tool\n",
        "def get_weather(location:str):\n",
        "  \"\"\"Call to get the weather\"\"\"\n",
        "  if location in [\"서울\",\"인천\"]:\n",
        "    return \"its 60도\"\n",
        "  else:\n",
        "    return \"90도야\"\n",
        "\n",
        "@tool\n",
        "def get_coolest_cities():\n",
        "  \"\"\"시원한 도시 얻기\"\"\"\n",
        "  return \"서울\",\"충남\"\n",
        "\n",
        "\n",
        "tools  = [get_weather, get_coolest_cities]\n",
        "tool_node = ToolNode(tools)\n",
        "\n"
      ],
      "metadata": {
        "id": "NFKcvWMSqrhu"
      },
      "execution_count": 10,
      "outputs": []
    },
    {
      "cell_type": "code",
      "source": [
        "from langchain_openai import ChatOpenAI\n",
        "model_with_tools = ChatOpenAI(model = \"gpt-4o-mini\").bind_tools(tools) ##################3 바인드 tools\n"
      ],
      "metadata": {
        "id": "nYU7c186qrlZ"
      },
      "execution_count": 12,
      "outputs": []
    },
    {
      "cell_type": "code",
      "source": [
        "model_with_tools.invoke(\"서울날씨좀\").tool_calls"
      ],
      "metadata": {
        "colab": {
          "base_uri": "https://localhost:8080/"
        },
        "id": "d7EeuZEMqrqf",
        "outputId": "5c26dd51-b80c-49a2-c1d9-59caafdc8c16"
      },
      "execution_count": 14,
      "outputs": [
        {
          "output_type": "execute_result",
          "data": {
            "text/plain": [
              "[{'name': 'get_weather',\n",
              "  'args': {'location': '서울'},\n",
              "  'id': 'call_RbhZ7AOn936G8BSQOwsbVSO1',\n",
              "  'type': 'tool_call'}]"
            ]
          },
          "metadata": {},
          "execution_count": 14
        }
      ]
    },
    {
      "cell_type": "code",
      "source": [
        "model_with_tools.invoke(\"한국에서 추운 도시는?\").tool_calls"
      ],
      "metadata": {
        "colab": {
          "base_uri": "https://localhost:8080/"
        },
        "id": "x0UR1kunqrzo",
        "outputId": "00ac2bef-b8d1-4907-e84d-f945c156ec47"
      },
      "execution_count": 13,
      "outputs": [
        {
          "output_type": "execute_result",
          "data": {
            "text/plain": [
              "[{'name': 'get_coolest_cities',\n",
              "  'args': {},\n",
              "  'id': 'call_GAPJ8kgovJvgO4oXdiym4PQU',\n",
              "  'type': 'tool_call'}]"
            ]
          },
          "metadata": {},
          "execution_count": 13
        }
      ]
    },
    {
      "cell_type": "code",
      "source": [
        "tool_node.invoke({\"messages\":[model_with_tools.invoke(\"서울날씨좀\")]})"
      ],
      "metadata": {
        "colab": {
          "base_uri": "https://localhost:8080/"
        },
        "id": "DFHM2xXdsSnB",
        "outputId": "86407ba3-89a8-48ad-a87e-d23df8aa2877"
      },
      "execution_count": 15,
      "outputs": [
        {
          "output_type": "execute_result",
          "data": {
            "text/plain": [
              "{'messages': [ToolMessage(content='its 60도', name='get_weather', tool_call_id='call_DSMZPu9S0K3G8Ys9Yn6Ok2rW')]}"
            ]
          },
          "metadata": {},
          "execution_count": 15
        }
      ]
    },
    {
      "cell_type": "code",
      "source": [
        "tool_node.invoke({\"messages\":[model_with_tools.invoke(\"으슬으슬한 도시는?\")]})"
      ],
      "metadata": {
        "colab": {
          "base_uri": "https://localhost:8080/"
        },
        "id": "_av9IaTXskAG",
        "outputId": "b4459b15-4de6-456e-9cf7-a407567b542f"
      },
      "execution_count": 16,
      "outputs": [
        {
          "output_type": "execute_result",
          "data": {
            "text/plain": [
              "{'messages': [ToolMessage(content='[\"서울\", \"충남\"]', name='get_coolest_cities', tool_call_id='call_tlkc7Cbte9gwjl6MLdZ2qhk5')]}"
            ]
          },
          "metadata": {},
          "execution_count": 16
        }
      ]
    },
    {
      "cell_type": "code",
      "source": [
        "tool_node.invoke({\"messages\":[model_with_tools.invoke(\"대통령 누구뽑지?\")]})"
      ],
      "metadata": {
        "colab": {
          "base_uri": "https://localhost:8080/"
        },
        "id": "y7ku4kyMsq2y",
        "outputId": "9b4e3a15-fad9-4c55-b9f2-7fe212a226ea"
      },
      "execution_count": 17,
      "outputs": [
        {
          "output_type": "execute_result",
          "data": {
            "text/plain": [
              "{'messages': []}"
            ]
          },
          "metadata": {},
          "execution_count": 17
        }
      ]
    },
    {
      "cell_type": "code",
      "source": [],
      "metadata": {
        "id": "1BdtJER_s0oB"
      },
      "execution_count": null,
      "outputs": []
    },
    {
      "cell_type": "markdown",
      "source": [],
      "metadata": {
        "id": "Pd1WPsAKtFY9"
      }
    },
    {
      "cell_type": "markdown",
      "source": [],
      "metadata": {
        "id": "vnLj7F8TtFcw"
      }
    },
    {
      "cell_type": "code",
      "source": [
        "from typing import Annotated, Literal, TypedDict\n",
        "from langchain_core.messages import HumanMessage\n",
        "from langchain_core.tools import tool\n",
        "from langgraph.graph import END, START, StateGraph, MessagesState\n",
        "\n",
        "from langgraph.prebuilt import ToolNode\n",
        "tools  = [get_weather, get_coolest_cities]\n",
        "tool_node = ToolNode(tools)\n",
        "\n",
        "\n",
        "# 메시지 상태를 받아 다음 스텝을 판단하는 조건 함수\n",
        "def should_continue(state: MessagesState) -> Literal[\"tools\", END]:\n",
        "    messages = state[\"messages\"]                     # 현재까지의 메시지 상태 불러오기\n",
        "    last_message = messages[-1]                      # 가장 마지막 메시지를 가져옴\n",
        "\n",
        "    # 마지막 메시지에 tool_call 정보가 있으면, 'tools' 노드로 이동\n",
        "    if last_message.tool_calls:\n",
        "        return \"tools\"\n",
        "\n",
        "    # 아니면 종료\n",
        "    return END\n",
        "\n",
        "# 모델을 호출하여 응답을 생성하는 함수 노드\n",
        "def call_model(state: MessagesState):\n",
        "    messages = state[\"messages\"]\n",
        "    response = model_with_tools.invoke(messages)     # LLM 호출\n",
        "    return {\"messages\": [response]}                  # 응답 메시지를 리스트로 반환\n",
        "\n",
        "workflow = StateGraph(MessagesState)\n",
        "\n",
        "# 'agent' 노드에 모델 호출 함수 연결\n",
        "workflow.add_node(\"agent\", call_model)\n",
        "\n",
        "# 'tools' 노드에 도구 처리 함수(tool_node) 연결\n",
        "workflow.add_node(\"tools\", tool_node)\n",
        "\n",
        "# 그래프 시작 지점을 'agent' 노드로 설정\n",
        "workflow.add_edge(START, \"agent\")\n",
        "\n",
        "# 조건 분기 설정:\n",
        "# 'agent' 노드 실행 후, should_continue() 함수 결과에 따라 다음 노드 결정\n",
        "workflow.add_conditional_edges(\n",
        "    \"agent\",\n",
        "    should_continue,\n",
        ")\n",
        "\n",
        "# 도구 실행 후 다시 'agent'로 돌아가게 설정 (반복 가능)\n",
        "workflow.add_edge(\"tools\", \"agent\")\n",
        "\n",
        "# 그래프 최종 컴파일\n",
        "app = workflow.compile()\n"
      ],
      "metadata": {
        "id": "074E8OUttF6B"
      },
      "execution_count": 19,
      "outputs": []
    },
    {
      "cell_type": "code",
      "source": [
        "# 그래프 시각화\n",
        "from IPython.display import Image, display\n",
        "\n",
        "display(Image(app.get_graph().draw_mermaid_png()))\n"
      ],
      "metadata": {
        "colab": {
          "base_uri": "https://localhost:8080/",
          "height": 266
        },
        "id": "xO9i0Y10uh26",
        "outputId": "b3f54c01-6469-4c54-9cf3-60ffb5130b60"
      },
      "execution_count": 22,
      "outputs": [
        {
          "output_type": "display_data",
          "data": {
            "image/png": "[encoded data removed]",
            "text/plain": [
              "<IPython.core.display.Image object>"
            ]
          },
          "metadata": {}
        }
      ]
    },
    {
      "cell_type": "code",
      "source": [
        "final_state = app.invoke(\n",
        "    {\"messages\": [HumanMessage(content =\"일산 날씨좀\")]}\n",
        ")\n",
        "final_state[\"messages\"][-1].content"
      ],
      "metadata": {
        "colab": {
          "base_uri": "https://localhost:8080/",
          "height": 35
        },
        "id": "7lL-4sguu6zx",
        "outputId": "5054009b-4f60-45d5-bbdc-0548ee97045b"
      },
      "execution_count": 23,
      "outputs": [
        {
          "output_type": "execute_result",
          "data": {
            "text/plain": [
              "'현재 일산의 기온은 90도입니다. 매우 더운 날씨입니다! 추가적인 날씨 정보가 필요하시면 말씀해 주세요.'"
            ],
            "application/vnd.google.colaboratory.intrinsic+json": {
              "type": "string"
            }
          },
          "metadata": {},
          "execution_count": 23
        }
      ]
    },
    {
      "cell_type": "code",
      "source": [
        "# example with a multiple tool calls in succession\n",
        "for chunk in app.stream(\n",
        "    {\"messages\": [(\"human\", \"가장 추운 도시의 날씨는 어때?\")]},\n",
        "    stream_mode=\"values\",\n",
        "):\n",
        "    chunk[\"messages\"][-1].pretty_print()\n"
      ],
      "metadata": {
        "colab": {
          "base_uri": "https://localhost:8080/"
        },
        "id": "XW1d-qSlv1R5",
        "outputId": "0137d52e-8757-4f0f-e39c-7fa93e403b53"
      },
      "execution_count": 26,
      "outputs": [
        {
          "output_type": "stream",
          "name": "stdout",
          "text": [
            "================================\u001b[1m Human Message \u001b[0m=================================\n",
            "\n",
            "가장 추운 도시의 날씨는 어때?\n",
            "==================================\u001b[1m Ai Message \u001b[0m==================================\n",
            "Tool Calls:\n",
            "  get_coolest_cities (call_zFJztBPvAwbLKSR3cImXorkH)\n",
            " Call ID: call_zFJztBPvAwbLKSR3cImXorkH\n",
            "  Args:\n",
            "=================================\u001b[1m Tool Message \u001b[0m=================================\n",
            "Name: get_coolest_cities\n",
            "\n",
            "[\"서울\", \"충남\"]\n",
            "==================================\u001b[1m Ai Message \u001b[0m==================================\n",
            "Tool Calls:\n",
            "  get_weather (call_UBype7q0HtlNs5x8bfSuJRUD)\n",
            " Call ID: call_UBype7q0HtlNs5x8bfSuJRUD\n",
            "  Args:\n",
            "    location: 서울\n",
            "  get_weather (call_vyqVNHqLyOSjLFlpMEL1Em1o)\n",
            " Call ID: call_vyqVNHqLyOSjLFlpMEL1Em1o\n",
            "  Args:\n",
            "    location: 충남\n",
            "=================================\u001b[1m Tool Message \u001b[0m=================================\n",
            "Name: get_weather\n",
            "\n",
            "90도야\n",
            "==================================\u001b[1m Ai Message \u001b[0m==================================\n",
            "\n",
            "가장 추운 도시인 서울의 날씨는 약 60도(화씨)이며, 충남은 약 90도(화씨)입니다. 서울이 충남보다 상대적으로 더 시원한 날씨를 보이고 있습니다.\n"
          ]
        }
      ]
    },
    {
      "cell_type": "code",
      "source": [],
      "metadata": {
        "id": "rHPGQovov_rU"
      },
      "execution_count": null,
      "outputs": []
    }
  ]
}